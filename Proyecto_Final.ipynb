{
  "nbformat": 4,
  "nbformat_minor": 0,
  "metadata": {
    "colab": {
      "provenance": [],
      "include_colab_link": true
    },
    "kernelspec": {
      "name": "python3",
      "display_name": "Python 3"
    },
    "language_info": {
      "name": "python"
    }
  },
  "cells": [
    {
      "cell_type": "markdown",
      "metadata": {
        "id": "view-in-github",
        "colab_type": "text"
      },
      "source": [
        "<a href=\"https://colab.research.google.com/github/eduingt/Proyecto_final/blob/main/Proyecto_Final.ipynb\" target=\"_parent\"><img src=\"https://colab.research.google.com/assets/colab-badge.svg\" alt=\"Open In Colab\"/></a>"
      ]
    },
    {
      "cell_type": "code",
      "execution_count": null,
      "metadata": {
        "colab": {
          "base_uri": "https://localhost:8080/",
          "height": 383
        },
        "id": "fDIql20-RuLw",
        "outputId": "c23548b6-8e96-4530-929f-fe9622e684d3"
      },
      "outputs": [
        {
          "output_type": "error",
          "ename": "ModuleNotFoundError",
          "evalue": "No module named 'streamlit'",
          "traceback": [
            "\u001b[0;31m---------------------------------------------------------------------------\u001b[0m",
            "\u001b[0;31mModuleNotFoundError\u001b[0m                       Traceback (most recent call last)",
            "\u001b[0;32m/tmp/ipython-input-1-3892979909.py\u001b[0m in \u001b[0;36m<cell line: 0>\u001b[0;34m()\u001b[0m\n\u001b[0;32m----> 1\u001b[0;31m \u001b[0;32mimport\u001b[0m \u001b[0mstreamlit\u001b[0m \u001b[0;32mas\u001b[0m \u001b[0mst\u001b[0m\u001b[0;34m\u001b[0m\u001b[0;34m\u001b[0m\u001b[0m\n\u001b[0m\u001b[1;32m      2\u001b[0m \u001b[0;32mimport\u001b[0m \u001b[0mpandas\u001b[0m \u001b[0;32mas\u001b[0m \u001b[0mpd\u001b[0m\u001b[0;34m\u001b[0m\u001b[0;34m\u001b[0m\u001b[0m\n\u001b[1;32m      3\u001b[0m \u001b[0;32mimport\u001b[0m \u001b[0mos\u001b[0m\u001b[0;34m\u001b[0m\u001b[0;34m\u001b[0m\u001b[0m\n\u001b[1;32m      4\u001b[0m \u001b[0;32mimport\u001b[0m \u001b[0msqlite3\u001b[0m\u001b[0;34m\u001b[0m\u001b[0;34m\u001b[0m\u001b[0m\n\u001b[1;32m      5\u001b[0m \u001b[0;32mfrom\u001b[0m \u001b[0msklearn\u001b[0m\u001b[0;34m.\u001b[0m\u001b[0mensemble\u001b[0m \u001b[0;32mimport\u001b[0m \u001b[0mRandomForestClassifier\u001b[0m\u001b[0;34m\u001b[0m\u001b[0;34m\u001b[0m\u001b[0m\n",
            "\u001b[0;31mModuleNotFoundError\u001b[0m: No module named 'streamlit'",
            "",
            "\u001b[0;31m---------------------------------------------------------------------------\u001b[0;32m\nNOTE: If your import is failing due to a missing package, you can\nmanually install dependencies using either !pip or !apt.\n\nTo view examples of installing some common dependencies, click the\n\"Open Examples\" button below.\n\u001b[0;31m---------------------------------------------------------------------------\u001b[0m\n"
          ],
          "errorDetails": {
            "actions": [
              {
                "action": "open_url",
                "actionText": "Open Examples",
                "url": "/notebooks/snippets/importing_libraries.ipynb"
              }
            ]
          }
        }
      ],
      "source": [
        "import streamlit as st\n",
        "import pandas as pd\n",
        "import os\n",
        "import sqlite3\n",
        "from sklearn.ensemble import RandomForestClassifier\n",
        "from sklearn.preprocessing import LabelEncoder\n",
        "from sklearn.metrics import classification_report, confusion_matrix\n",
        "import seaborn as sns\n",
        "import matplotlib.pyplot as plt\n",
        "\n",
        "st.set_page_config(page_title=\"IP Threat Predictor\", layout=\"centered\")\n",
        "st.title(\"🛡️ IP Threat Predictor\")\n",
        "st.markdown(\"Predice si una IP es maliciosa o benigna con base en características conocidas.\")\n",
        "\n",
        "# Rutas locales\n",
        "db_path = r\"predicciones.db\"\n",
        "blacklist_path = r\"blacklist.txt\"\n",
        "\n",
        "# Cargar datos\n",
        "@st.cache_data\n",
        "def cargar_datos():\n",
        "    return pd.read_csv(\"ip_prediction_dataset_10000.csv\")\n",
        "\n",
        "df = cargar_datos()\n",
        "\n",
        "le_country = LabelEncoder()\n",
        "le_isp = LabelEncoder()\n",
        "le_proxy = LabelEncoder()\n",
        "\n",
        "df[\"Country\"] = le_country.fit_transform(df[\"Country\"])\n",
        "df[\"ISP\"] = le_isp.fit_transform(df[\"ISP\"])\n",
        "df[\"Proxy\"] = le_proxy.fit_transform(df[\"Proxy\"])\n",
        "\n",
        "X = df.drop([\"Class\", \"IP\"], axis=1)\n",
        "y = df[\"Class\"]\n",
        "\n",
        "modelo = RandomForestClassifier(n_estimators=100, random_state=42)\n",
        "modelo.fit(X, y)\n",
        "\n",
        "# Formulario\n",
        "st.header(\"🔍 Ingresar características de la IP\")\n",
        "\n",
        "with st.form(\"formulario\"):\n",
        "    ip = st.text_input(\"IP a verificar\", value=\"0.0.0.0\")\n",
        "    country = st.selectbox(\"País\", le_country.classes_)\n",
        "    isp = st.selectbox(\"ISP\", le_isp.classes_)\n",
        "    rpm = st.slider(\"Conexiones por minuto\", 0, 100, 50)\n",
        "    proxy = st.selectbox(\"¿Usa proxy?\", le_proxy.classes_)\n",
        "    vt_score = st.slider(\"Reputación en VirusTotal (0 = buena, 1 = mala)\", 0.0, 1.0, 0.5, step=0.01)\n",
        "    submitted = st.form_submit_button(\"Predecir\")\n",
        "\n",
        "if submitted:\n",
        "    entrada = pd.DataFrame([[\n",
        "        le_country.transform([country])[0],\n",
        "        le_isp.transform([isp])[0],\n",
        "        rpm,\n",
        "        le_proxy.transform([proxy])[0],\n",
        "        vt_score\n",
        "    ]], columns=X.columns)\n",
        "\n",
        "    prediccion = modelo.predict(entrada)[0]\n",
        "    resultado = \"⚠️ Maliciosa\" if prediccion == 1 else \"✅ Benigna\"\n",
        "    st.success(f\"Resultado de la predicción: **{resultado}**\")\n",
        "\n",
        "    # Guardar predicción\n",
        "    try:\n",
        "        conn = sqlite3.connect(db_path)\n",
        "        entrada[\"Prediction\"] = prediccion\n",
        "        entrada.to_sql(\"historico\", conn, if_exists=\"append\", index=False)\n",
        "        conn.close()\n",
        "        st.info(\"📥 Predicción guardada en la base de datos local.\")\n",
        "    except Exception as e:\n",
        "        st.error(f\"❌ Error al guardar en base de datos: {e}\")\n",
        "\n",
        "    # Validar contra blacklist\n",
        "    try:\n",
        "        if os.path.exists(blacklist_path):\n",
        "            with open(blacklist_path, \"r\") as f:\n",
        "                lista_negra = [line.strip() for line in f]\n",
        "            if ip in lista_negra:\n",
        "                st.warning(\"⚠️ Esta IP está registrada en la lista negra local.\")\n",
        "            else:\n",
        "                st.info(\"✅ Esta IP no está en la lista negra local.\")\n",
        "        else:\n",
        "            st.warning(\"⚠️ No se encontró el archivo de lista negra.\")\n",
        "    except Exception as e:\n",
        "        st.error(f\"❌ Error al verificar lista negra: {e}\")\n",
        "\n",
        "# Métricas\n",
        "st.header(\"📊 Rendimiento del modelo\")\n",
        "y_pred = modelo.predict(X)\n",
        "cm = confusion_matrix(y, y_pred)\n",
        "\n",
        "fig, ax = plt.subplots()\n",
        "sns.heatmap(cm, annot=True, fmt=\"d\", cmap=\"Blues\", xticklabels=[\"Benigna\", \"Maliciosa\"], yticklabels=[\"Benigna\", \"Maliciosa\"], ax=ax)\n",
        "ax.set_xlabel(\"Predicción\")\n",
        "ax.set_ylabel(\"Real\")\n",
        "st.pyplot(fig)\n",
        "\n",
        "st.text(\"Reporte de clasificación:\")\n",
        "st.text(classification_report(y, y_pred))\n"
      ]
    },
    {
      "cell_type": "code",
      "source": [],
      "metadata": {
        "id": "eNvE8jG9SIyI"
      },
      "execution_count": null,
      "outputs": []
    }
  ]
}